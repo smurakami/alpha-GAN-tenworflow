{
 "cells": [
  {
   "cell_type": "code",
   "execution_count": 1,
   "metadata": {
    "collapsed": false
   },
   "outputs": [],
   "source": [
    "import tensorflow as tf"
   ]
  },
  {
   "cell_type": "code",
   "execution_count": 2,
   "metadata": {
    "collapsed": true
   },
   "outputs": [],
   "source": [
    "import numpy as np\n",
    "import matplotlib.pyplot as plt\n",
    "%matplotlib inline"
   ]
  },
  {
   "cell_type": "code",
   "execution_count": 3,
   "metadata": {
    "collapsed": true
   },
   "outputs": [],
   "source": [
    "from model import encoder, generator, discriminator, code_discriminator\n",
    "from tqdm import tqdm\n",
    "\n",
    "EPS = 1e-12"
   ]
  },
  {
   "cell_type": "code",
   "execution_count": 4,
   "metadata": {
    "collapsed": true
   },
   "outputs": [],
   "source": [
    "class Debug:\n",
    "    pass\n",
    "debug = Debug()"
   ]
  },
  {
   "cell_type": "code",
   "execution_count": 5,
   "metadata": {
    "collapsed": true
   },
   "outputs": [],
   "source": [
    "reconstruction_loss_weight = 40.0"
   ]
  },
  {
   "cell_type": "code",
   "execution_count": 6,
   "metadata": {
    "collapsed": true
   },
   "outputs": [],
   "source": [
    "images = tf.placeholder(tf.float32, (None, 32, 32, 1))\n",
    "x_real = (images / 255.0) * 2 - 1"
   ]
  },
  {
   "cell_type": "code",
   "execution_count": 7,
   "metadata": {
    "collapsed": false
   },
   "outputs": [],
   "source": [
    "with tf.variable_scope('encoder', reuse=tf.AUTO_REUSE):\n",
    "    z_encoded = encoder(x_real)"
   ]
  },
  {
   "cell_type": "code",
   "execution_count": 8,
   "metadata": {
    "collapsed": false
   },
   "outputs": [],
   "source": [
    "with tf.variable_scope('generator', reuse=tf.AUTO_REUSE):\n",
    "    x_autoencoded = generator(z_encoded)"
   ]
  },
  {
   "cell_type": "code",
   "execution_count": 9,
   "metadata": {
    "collapsed": false
   },
   "outputs": [],
   "source": [
    "reconstruction_loss = reconstruction_loss_weight * tf.reduce_mean(tf.abs(x_real - x_autoencoded))"
   ]
  },
  {
   "cell_type": "code",
   "execution_count": 10,
   "metadata": {
    "collapsed": true
   },
   "outputs": [],
   "source": [
    "z_prior = tf.placeholder(tf.float32, (None, 128))"
   ]
  },
  {
   "cell_type": "code",
   "execution_count": 11,
   "metadata": {
    "collapsed": true
   },
   "outputs": [],
   "source": [
    "with tf.variable_scope('generator', reuse=tf.AUTO_REUSE):\n",
    "    x_generated = generator(z_prior)"
   ]
  },
  {
   "cell_type": "code",
   "execution_count": 12,
   "metadata": {
    "collapsed": true
   },
   "outputs": [],
   "source": [
    "x_fake = tf.concat([x_autoencoded, x_generated], 0)"
   ]
  },
  {
   "cell_type": "code",
   "execution_count": 13,
   "metadata": {
    "collapsed": false
   },
   "outputs": [],
   "source": [
    "with tf.variable_scope('discriminator', reuse=tf.AUTO_REUSE):\n",
    "    y_fake = discriminator(x_fake)"
   ]
  },
  {
   "cell_type": "code",
   "execution_count": 14,
   "metadata": {
    "collapsed": false
   },
   "outputs": [],
   "source": [
    "generator_loss = tf.reduce_mean(-tf.log(y_fake + EPS))"
   ]
  },
  {
   "cell_type": "code",
   "execution_count": 15,
   "metadata": {
    "collapsed": true
   },
   "outputs": [],
   "source": [
    "with tf.variable_scope('discriminator', reuse=tf.AUTO_REUSE):\n",
    "    y_real = discriminator(x_real)"
   ]
  },
  {
   "cell_type": "code",
   "execution_count": 16,
   "metadata": {
    "collapsed": true
   },
   "outputs": [],
   "source": [
    "discriminator_loss = -tf.reduce_mean(tf.log(y_real + EPS)) - tf.reduce_mean(tf.log(1 - y_fake + EPS))"
   ]
  },
  {
   "cell_type": "code",
   "execution_count": 17,
   "metadata": {
    "collapsed": true
   },
   "outputs": [],
   "source": [
    "with tf.variable_scope('code_discriminator', reuse=tf.AUTO_REUSE):\n",
    "    c_real = code_discriminator(z_prior)"
   ]
  },
  {
   "cell_type": "code",
   "execution_count": 18,
   "metadata": {
    "collapsed": true
   },
   "outputs": [],
   "source": [
    "with tf.variable_scope('code_discriminator', reuse=tf.AUTO_REUSE):\n",
    "    c_fake = code_discriminator(z_encoded)    "
   ]
  },
  {
   "cell_type": "code",
   "execution_count": 19,
   "metadata": {
    "collapsed": true
   },
   "outputs": [],
   "source": [
    "code_discriminator_loss = -tf.reduce_mean(tf.log(c_real + EPS)) - tf.reduce_mean(tf.log(1 - c_fake + EPS))"
   ]
  },
  {
   "cell_type": "code",
   "execution_count": 20,
   "metadata": {
    "collapsed": true
   },
   "outputs": [],
   "source": [
    "code_generator_loss = tf.reduce_mean(-tf.log(c_fake + EPS))"
   ]
  },
  {
   "cell_type": "code",
   "execution_count": 21,
   "metadata": {
    "collapsed": true
   },
   "outputs": [],
   "source": [
    "variables =  tf.trainable_variables()"
   ]
  },
  {
   "cell_type": "code",
   "execution_count": 22,
   "metadata": {
    "collapsed": false
   },
   "outputs": [],
   "source": [
    "encoder_vars = [var for var in variables if 'encoder/' in var.name]\n",
    "generator_vars = [var for var in variables if 'generator/' in var.name]\n",
    "discriminator_vars = [var for var in variables if 'discriminator/' in var.name]\n",
    "code_discriminator_vars = [var for var in variables if 'code_discriminator/' in var.name]"
   ]
  },
  {
   "cell_type": "code",
   "execution_count": 23,
   "metadata": {
    "collapsed": false
   },
   "outputs": [],
   "source": [
    "lr = 8e-4\n",
    "beta1= 0.5\n",
    "beta2 = 0.9\n",
    "\n",
    "encoder_generator_loss = reconstruction_loss + generator_loss + code_generator_loss\n",
    "\n",
    "encoder_generator_opt = tf.train.AdamOptimizer(lr, beta1, beta2).minimize(\n",
    "    encoder_generator_loss,\n",
    "    var_list=encoder_vars + generator_vars)\n",
    "\n",
    "discriminator_opt = tf.train.AdamOptimizer(lr, beta1, beta2).minimize(\n",
    "    discriminator_loss,\n",
    "    var_list=discriminator_vars)\n",
    "\n",
    "code_discriminator_opt = tf.train.AdamOptimizer(lr, beta1, beta2).minimize(\n",
    "    code_discriminator_loss,\n",
    "    var_list=code_discriminator_vars)"
   ]
  },
  {
   "cell_type": "code",
   "execution_count": 24,
   "metadata": {
    "collapsed": true
   },
   "outputs": [],
   "source": [
    "# data load\n",
    "\n",
    "import numpy as np\n",
    "data = np.load('data/cat_32.npy')\n",
    "\n",
    "# data = data[:1024]"
   ]
  },
  {
   "cell_type": "code",
   "execution_count": 25,
   "metadata": {
    "collapsed": true
   },
   "outputs": [],
   "source": [
    "import cv2\n",
    "\n",
    "def generate_and_save_current_image(epoch):\n",
    "    z_batch = np.random.uniform(-1, 1, (16, 128))\n",
    "    generated = sess.run(x_generated, {z_prior: z_batch})\n",
    "    rows = []\n",
    "    for i in range(0, 16, 4):\n",
    "        row = np.hstack(generated[i:i+4])\n",
    "        rows.append(row)\n",
    "    merged = np.vstack(rows)\n",
    "\n",
    "    output = ((merged + 1) /2 * 255).astype(np.uint8)\n",
    "\n",
    "\n",
    "    cv2.imwrite('images/output_{:03d}.png'.format(epoch), output)"
   ]
  },
  {
   "cell_type": "code",
   "execution_count": 26,
   "metadata": {
    "collapsed": false
   },
   "outputs": [],
   "source": [
    "init = tf.global_variables_initializer()\n",
    "sess = tf.Session()"
   ]
  },
  {
   "cell_type": "code",
   "execution_count": 27,
   "metadata": {
    "collapsed": true
   },
   "outputs": [],
   "source": [
    "sess.run(init)"
   ]
  },
  {
   "cell_type": "code",
   "execution_count": null,
   "metadata": {
    "collapsed": false
   },
   "outputs": [
    {
     "name": "stderr",
     "output_type": "stream",
     "text": [
      " 44%|████▍     | 427/963 [04:50<06:04,  1.47it/s]"
     ]
    }
   ],
   "source": [
    "batch_size = 128\n",
    "max_epoch = 2000\n",
    "epoch = 0\n",
    "\n",
    "saver = tf.train.Saver()\n",
    "\n",
    "while epoch < max_epoch:\n",
    "    for index in tqdm(range(0, len(data), batch_size)):\n",
    "        image_batch = data[index:index+batch_size]\n",
    "        sample_z = lambda: np.random.randn(len(image_batch), 128)\n",
    "        _, eg_loss = sess.run([encoder_generator_opt, encoder_generator_loss], {images: image_batch, z_prior: sample_z()})\n",
    "        _, eg_loss = sess.run([encoder_generator_opt, encoder_generator_loss], {images: image_batch, z_prior: sample_z()}) # run twice\n",
    "        _, d_loss = sess.run([discriminator_opt, discriminator_loss], {images: image_batch, z_prior: sample_z()})\n",
    "        _, c_loss = sess.run([code_discriminator_opt, code_discriminator_loss], {images: image_batch, z_prior: sample_z()})\n",
    "#     if epoch % 5 == 0:\n",
    "    if True:\n",
    "        saver.save(sess, './model/model', global_step=epoch)    \n",
    "        print(\"epoch:\", epoch+1, \", eg_loss:\", eg_loss, \", d_loss:\", d_loss, \", c_loss:\", c_loss)\n",
    "        generate_and_save_current_image(epoch)\n",
    "\n",
    "    epoch += 1\n",
    "    \n",
    "    "
   ]
  },
  {
   "cell_type": "code",
   "execution_count": null,
   "metadata": {
    "collapsed": false
   },
   "outputs": [],
   "source": []
  }
 ],
 "metadata": {
  "anaconda-cloud": {},
  "kernelspec": {
   "display_name": "Python [default]",
   "language": "python",
   "name": "python3"
  },
  "language_info": {
   "codemirror_mode": {
    "name": "ipython",
    "version": 3
   },
   "file_extension": ".py",
   "mimetype": "text/x-python",
   "name": "python",
   "nbconvert_exporter": "python",
   "pygments_lexer": "ipython3",
   "version": "3.5.2"
  }
 },
 "nbformat": 4,
 "nbformat_minor": 2
}
