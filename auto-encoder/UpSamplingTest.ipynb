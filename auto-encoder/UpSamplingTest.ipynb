{
 "cells": [
  {
   "cell_type": "code",
   "execution_count": 1,
   "metadata": {
    "collapsed": false
   },
   "outputs": [],
   "source": [
    "import tensorflow as tf"
   ]
  },
  {
   "cell_type": "code",
   "execution_count": 2,
   "metadata": {
    "collapsed": true
   },
   "outputs": [],
   "source": [
    "import numpy as np\n",
    "import matplotlib.pyplot as plt\n",
    "%matplotlib inline"
   ]
  },
  {
   "cell_type": "code",
   "execution_count": 3,
   "metadata": {
    "collapsed": true
   },
   "outputs": [],
   "source": [
    "# from model import encoder, decoder\n",
    "from tqdm import tqdm"
   ]
  },
  {
   "cell_type": "code",
   "execution_count": 4,
   "metadata": {
    "collapsed": true
   },
   "outputs": [],
   "source": [
    "class Debug:\n",
    "    pass\n",
    "\n",
    "debug = Debug()"
   ]
  },
  {
   "cell_type": "code",
   "execution_count": 5,
   "metadata": {
    "collapsed": false
   },
   "outputs": [],
   "source": [
    "def res_block(inputs, filters, kernel_size, strides=(1, 1), kernel_initializer=None):\n",
    "    x = inputs\n",
    "\n",
    "    x = tf.layers.conv2d(x, 4, kernel_size=3, strides=(1, 1), padding=\"same\", kernel_initializer=initializer)\n",
    "    x = tf.layers.batch_normalization(x, axis=3, epsilon=1e-5, momentum=0.1, training=True, gamma_initializer=kernel_initializer)\n",
    "\n",
    "    \n",
    "#     # \n",
    "#     x = tf.layers.conv2d(x, filters, kernel_size=kernel_size, strides=strides, padding=\"same\", kernel_initializer=kernel_initializer)\n",
    "#     x = tf.layers.batch_normalization(inputs, axis=3, epsilon=1e-5, momentum=0.1, training=True, gamma_initializer=kernel_initializer)\n",
    "#     x = tf.nn.relu(x)\n",
    "\n",
    "#     x = tf.layers.conv2d(x, filters, kernel_size=kernel_size, strides=strides, padding=\"same\", kernel_initializer=kernel_initializer)\n",
    "#     x = tf.layers.batch_normalization(inputs, axis=3, epsilon=1e-5, momentum=0.1, training=True, gamma_initializer=kernel_initializer)\n",
    "#     x = tf.nn.relu(x + inputs)\n",
    "\n",
    "    return x\n"
   ]
  },
  {
   "cell_type": "code",
   "execution_count": 6,
   "metadata": {
    "collapsed": false
   },
   "outputs": [],
   "source": [
    "inputs = tf.placeholder(tf.float32, (None, 4, 4, 4))"
   ]
  },
  {
   "cell_type": "code",
   "execution_count": 7,
   "metadata": {
    "collapsed": false
   },
   "outputs": [],
   "source": [
    "# initializer = tf.random_normal_initializer(0, 0.02)\n",
    "\n",
    "# x = inputs\n",
    "# x = tf.layers.conv2d(x, 4, kernel_size=3, strides=(1, 1), padding=\"same\", kernel_initializer=initializer)\n",
    "\n",
    "# x = tf.image.resize_images(x, size=(x.shape[1]*2, x.shape[2]*2), method=tf.image.ResizeMethod.NEAREST_NEIGHBOR)\n",
    "# x = tf.layers.conv2d(x, 4, kernel_size=3, strides=(1, 1), padding=\"same\", kernel_initializer=initializer)\n",
    "\n",
    "# x = tf.image.resize_images(x, size=(x.shape[1]*2, x.shape[2]*2), method=tf.image.ResizeMethod.NEAREST_NEIGHBOR)\n",
    "# x = tf.layers.conv2d(x, 4, kernel_size=3, strides=(1, 1), padding=\"same\", kernel_initializer=initializer)\n",
    "\n",
    "# x = tf.image.resize_images(x, size=(x.shape[1]*2, x.shape[2]*2), method=tf.image.ResizeMethod.NEAREST_NEIGHBOR)\n",
    "# x = tf.layers.conv2d(x, 4, kernel_size=3, strides=(1, 1), padding=\"same\", kernel_initializer=initializer)\n",
    "\n",
    "\n",
    "# x = tf.tanh(x)"
   ]
  },
  {
   "cell_type": "code",
   "execution_count": 8,
   "metadata": {
    "collapsed": false
   },
   "outputs": [],
   "source": [
    "initializer = tf.random_normal_initializer(0, 0.02)\n",
    "\n",
    "x = inputs\n",
    "x = res_block(x, 4, kernel_size=3, strides=(1, 1), kernel_initializer=initializer)\n",
    "\n",
    "x = tf.image.resize_images(x, size=(x.shape[1]*2, x.shape[2]*2), method=tf.image.ResizeMethod.NEAREST_NEIGHBOR)\n",
    "x = res_block(x, 4, kernel_size=3, strides=(1, 1), kernel_initializer=initializer)\n",
    "\n",
    "x = tf.image.resize_images(x, size=(x.shape[1]*2, x.shape[2]*2), method=tf.image.ResizeMethod.NEAREST_NEIGHBOR)\n",
    "x = res_block(x, 4, kernel_size=3, strides=(1, 1), kernel_initializer=initializer)\n",
    "\n",
    "x = tf.image.resize_images(x, size=(x.shape[1]*2, x.shape[2]*2), method=tf.image.ResizeMethod.NEAREST_NEIGHBOR)\n",
    "x = res_block(x, 4, kernel_size=3, strides=(1, 1), kernel_initializer=initializer)\n",
    "\n",
    "\n",
    "x = tf.tanh(x)"
   ]
  },
  {
   "cell_type": "code",
   "execution_count": 9,
   "metadata": {
    "collapsed": false
   },
   "outputs": [],
   "source": [
    "y = x"
   ]
  },
  {
   "cell_type": "code",
   "execution_count": 10,
   "metadata": {
    "collapsed": true
   },
   "outputs": [],
   "source": [
    "# data load\n",
    "\n",
    "import numpy as np\n",
    "data = np.random.randn(100, 4, 4, 4)\n"
   ]
  },
  {
   "cell_type": "code",
   "execution_count": 11,
   "metadata": {
    "collapsed": false
   },
   "outputs": [],
   "source": [
    "init = tf.global_variables_initializer()\n",
    "sess = tf.Session()"
   ]
  },
  {
   "cell_type": "code",
   "execution_count": 12,
   "metadata": {
    "collapsed": false
   },
   "outputs": [],
   "source": [
    "sess.run(init)"
   ]
  },
  {
   "cell_type": "code",
   "execution_count": 13,
   "metadata": {
    "collapsed": false
   },
   "outputs": [],
   "source": [
    "image = data[0]"
   ]
  },
  {
   "cell_type": "code",
   "execution_count": 14,
   "metadata": {
    "collapsed": false
   },
   "outputs": [
    {
     "data": {
      "text/plain": [
       "<matplotlib.image.AxesImage at 0x7f5a499c1a20>"
      ]
     },
     "execution_count": 14,
     "metadata": {},
     "output_type": "execute_result"
    },
    {
     "data": {
      "image/png": "[encoded data removed]",
      "text/plain": [
       "<matplotlib.figure.Figure at 0x7f5a4e5f9d30>"
      ]
     },
     "metadata": {},
     "output_type": "display_data"
    }
   ],
   "source": [
    "plt.imshow(image[:, :, 0], cmap='gray', interpolation='nearest')"
   ]
  },
  {
   "cell_type": "code",
   "execution_count": 15,
   "metadata": {
    "collapsed": false
   },
   "outputs": [],
   "source": [
    "decoded = sess.run(y,  {inputs: data})"
   ]
  },
  {
   "cell_type": "code",
   "execution_count": 16,
   "metadata": {
    "collapsed": false
   },
   "outputs": [
    {
     "data": {
      "text/plain": [
       "<matplotlib.image.AxesImage at 0x7f5a498f8c88>"
      ]
     },
     "execution_count": 16,
     "metadata": {},
     "output_type": "execute_result"
    },
    {
     "data": {
      "image/png": "[encoded data removed]",
      "text/plain": [
       "<matplotlib.figure.Figure at 0x7f5a499ec080>"
      ]
     },
     "metadata": {},
     "output_type": "display_data"
    }
   ],
   "source": [
    "plt.imshow(decoded[0, :, :].mean(-1), cmap='gray', interpolation='nearest')"
   ]
  },
  {
   "cell_type": "code",
   "execution_count": null,
   "metadata": {
    "collapsed": false
   },
   "outputs": [],
   "source": []
  },
  {
   "cell_type": "code",
   "execution_count": null,
   "metadata": {
    "collapsed": true
   },
   "outputs": [],
   "source": []
  },
  {
   "cell_type": "code",
   "execution_count": null,
   "metadata": {
    "collapsed": true
   },
   "outputs": [],
   "source": []
  },
  {
   "cell_type": "code",
   "execution_count": null,
   "metadata": {
    "collapsed": true
   },
   "outputs": [],
   "source": []
  },
  {
   "cell_type": "code",
   "execution_count": null,
   "metadata": {
    "collapsed": true
   },
   "outputs": [],
   "source": []
  },
  {
   "cell_type": "code",
   "execution_count": null,
   "metadata": {
    "collapsed": true
   },
   "outputs": [],
   "source": []
  },
  {
   "cell_type": "code",
   "execution_count": null,
   "metadata": {
    "collapsed": true
   },
   "outputs": [],
   "source": []
  }
 ],
 "metadata": {
  "anaconda-cloud": {},
  "kernelspec": {
   "display_name": "Python [default]",
   "language": "python",
   "name": "python3"
  },
  "language_info": {
   "codemirror_mode": {
    "name": "ipython",
    "version": 3
   },
   "file_extension": ".py",
   "mimetype": "text/x-python",
   "name": "python",
   "nbconvert_exporter": "python",
   "pygments_lexer": "ipython3",
   "version": "3.5.2"
  }
 },
 "nbformat": 4,
 "nbformat_minor": 2
}
