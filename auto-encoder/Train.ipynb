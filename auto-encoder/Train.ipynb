{
 "cells": [
  {
   "cell_type": "code",
   "execution_count": 1,
   "metadata": {
    "collapsed": false
   },
   "outputs": [],
   "source": [
    "import tensorflow as tf"
   ]
  },
  {
   "cell_type": "code",
   "execution_count": 2,
   "metadata": {
    "collapsed": true
   },
   "outputs": [],
   "source": [
    "import numpy as np\n",
    "import matplotlib.pyplot as plt\n",
    "%matplotlib inline"
   ]
  },
  {
   "cell_type": "code",
   "execution_count": 3,
   "metadata": {
    "collapsed": true
   },
   "outputs": [],
   "source": [
    "# from model import encoder, decoder\n",
    "from tqdm import tqdm"
   ]
  },
  {
   "cell_type": "code",
   "execution_count": 4,
   "metadata": {
    "collapsed": true
   },
   "outputs": [],
   "source": [
    "class Debug:\n",
    "    pass\n",
    "\n",
    "debug = Debug()"
   ]
  },
  {
   "cell_type": "code",
   "execution_count": 5,
   "metadata": {
    "collapsed": false
   },
   "outputs": [],
   "source": [
    "def res_block(inputs, filters, kernel_size, strides=(1, 1), kernel_initializer=None):\n",
    "    x = inputs\n",
    "\n",
    "    x = tf.layers.conv2d(x, filters, kernel_size=kernel_size, strides=strides, padding=\"same\", kernel_initializer=kernel_initializer)\n",
    "    x = tf.layers.batch_normalization(x, axis=3, epsilon=1e-5, momentum=0.1, training=True, gamma_initializer=kernel_initializer)\n",
    "    x = tf.nn.relu(x)\n",
    "\n",
    "    x = tf.layers.conv2d(x, filters, kernel_size=kernel_size, strides=strides, padding=\"same\", kernel_initializer=kernel_initializer)\n",
    "    x = tf.layers.batch_normalization(x, axis=3, epsilon=1e-5, momentum=0.1, training=True, gamma_initializer=kernel_initializer)\n",
    "    x = tf.nn.relu(x + inputs)\n",
    "\n",
    "    return x\n",
    "\n",
    "\n",
    "def encoder(inputs):\n",
    "    x = inputs\n",
    "    h = 128\n",
    "    latent_dim = 128\n",
    "    initializer = tf.random_normal_initializer(0, 0.02)\n",
    "\n",
    "    # -------\n",
    "    x = tf.layers.conv2d(x, h, kernel_size=5, strides=(1, 1), padding=\"same\", kernel_initializer=initializer)\n",
    "    x = tf.layers.average_pooling2d(x, 2, 2, padding='same')\n",
    "    x = tf.nn.relu(x)\n",
    "\n",
    "    # -------\n",
    "    x = res_block(x, h, kernel_size=3, kernel_initializer=initializer)\n",
    "    x = tf.layers.average_pooling2d(x, 2, 2, padding='same')\n",
    "\n",
    "    # -------\n",
    "    x = res_block(x, h, kernel_size=3, kernel_initializer=initializer)\n",
    "    x = tf.layers.average_pooling2d(x, 2, 2, padding='same')\n",
    "\n",
    "    # -------\n",
    "    x = res_block(x, h, kernel_size=3, kernel_initializer=initializer)\n",
    "\n",
    "    # -------\n",
    "    x = tf.reshape(x, shape=(-1, h * 4 * 4))\n",
    "    x = tf.layers.dense(x, latent_dim, kernel_initializer=initializer)\n",
    "\n",
    "    return x\n",
    "\n",
    "\n",
    "\n",
    "def decoder(inputs):\n",
    "    h = 128\n",
    "    initializer = tf.random_normal_initializer(0, 0.02)\n",
    "\n",
    "    x = tf.layers.dense(inputs, h * 4 * 4, kernel_initializer=initializer)\n",
    "    x = tf.reshape(x, shape=(-1, 4, 4, h))\n",
    "    x = tf.nn.relu(x)\n",
    "\n",
    "    # -------\n",
    "    x = res_block(x, h, kernel_size=3, kernel_initializer=initializer)\n",
    "    x = tf.image.resize_nearest_neighbor(x, (x.shape[1] * 2, x.shape[2] * 2))\n",
    "\n",
    "    # -------\n",
    "    x = res_block(x, h, kernel_size=3, kernel_initializer=initializer)\n",
    "    x = tf.image.resize_nearest_neighbor(x, (x.shape[1] * 2, x.shape[2] * 2))\n",
    "\n",
    "    # -------\n",
    "    x = res_block(x, h, kernel_size=3, kernel_initializer=initializer)\n",
    "    x = tf.image.resize_nearest_neighbor(x, (x.shape[1] * 2, x.shape[2] * 2))\n",
    "\n",
    "    # -------\n",
    "    x = res_block(x, h, kernel_size=3, kernel_initializer=initializer)\n",
    "    x = tf.layers.conv2d(x, 1, kernel_size=1, padding=\"same\", kernel_initializer=initializer)\n",
    "\n",
    "    x = tf.nn.tanh(x)\n",
    "\n",
    "    return x\n"
   ]
  },
  {
   "cell_type": "code",
   "execution_count": 6,
   "metadata": {
    "collapsed": true
   },
   "outputs": [],
   "source": [
    "inputs = tf.placeholder(tf.float32, (None, 32, 32, 1))"
   ]
  },
  {
   "cell_type": "code",
   "execution_count": 7,
   "metadata": {
    "collapsed": true
   },
   "outputs": [],
   "source": [
    "x = (inputs / 255.0) * 2 - 1"
   ]
  },
  {
   "cell_type": "code",
   "execution_count": 8,
   "metadata": {
    "collapsed": false
   },
   "outputs": [],
   "source": [
    "z = encoder(x)"
   ]
  },
  {
   "cell_type": "code",
   "execution_count": 9,
   "metadata": {
    "collapsed": true
   },
   "outputs": [],
   "source": [
    "y = decoder(z)"
   ]
  },
  {
   "cell_type": "code",
   "execution_count": 10,
   "metadata": {
    "collapsed": false
   },
   "outputs": [
    {
     "data": {
      "text/plain": [
       "<tf.Tensor 'Tanh:0' shape=(?, 32, 32, 1) dtype=float32>"
      ]
     },
     "execution_count": 10,
     "metadata": {},
     "output_type": "execute_result"
    }
   ],
   "source": [
    "y"
   ]
  },
  {
   "cell_type": "code",
   "execution_count": null,
   "metadata": {
    "collapsed": true
   },
   "outputs": [],
   "source": []
  },
  {
   "cell_type": "code",
   "execution_count": 11,
   "metadata": {
    "collapsed": false
   },
   "outputs": [],
   "source": [
    "loss = tf.reduce_mean(tf.pow(x - y, 2))"
   ]
  },
  {
   "cell_type": "code",
   "execution_count": 12,
   "metadata": {
    "collapsed": false
   },
   "outputs": [],
   "source": [
    "optimize = tf.train.AdamOptimizer().minimize(loss)"
   ]
  },
  {
   "cell_type": "code",
   "execution_count": 13,
   "metadata": {
    "collapsed": true
   },
   "outputs": [],
   "source": [
    "# data load\n",
    "\n",
    "import numpy as np\n",
    "data = np.load('data/cat_32.npy')\n",
    "\n",
    "# data = (data / 255.0) * 2 - 1\n",
    "data = data[:1024]"
   ]
  },
  {
   "cell_type": "code",
   "execution_count": 14,
   "metadata": {
    "collapsed": false
   },
   "outputs": [
    {
     "data": {
      "text/plain": [
       "(1024, 32, 32, 1)"
      ]
     },
     "execution_count": 14,
     "metadata": {},
     "output_type": "execute_result"
    }
   ],
   "source": [
    "data.shape"
   ]
  },
  {
   "cell_type": "code",
   "execution_count": 15,
   "metadata": {
    "collapsed": false
   },
   "outputs": [],
   "source": [
    "init = tf.global_variables_initializer()\n",
    "sess = tf.Session()"
   ]
  },
  {
   "cell_type": "code",
   "execution_count": 16,
   "metadata": {
    "collapsed": true
   },
   "outputs": [],
   "source": [
    "sess.run(init)"
   ]
  },
  {
   "cell_type": "code",
   "execution_count": 17,
   "metadata": {
    "collapsed": false
   },
   "outputs": [
    {
     "name": "stderr",
     "output_type": "stream",
     "text": [
      "100%|██████████| 8/8 [00:01<00:00,  4.07it/s]\n",
      " 12%|█▎        | 1/8 [00:00<00:00,  9.12it/s]"
     ]
    },
    {
     "name": "stdout",
     "output_type": "stream",
     "text": [
      "epoch: 1 , loss: 0.553684\n"
     ]
    },
    {
     "name": "stderr",
     "output_type": "stream",
     "text": [
      "100%|██████████| 8/8 [00:00<00:00,  9.13it/s]\n",
      " 12%|█▎        | 1/8 [00:00<00:00,  9.17it/s]"
     ]
    },
    {
     "name": "stdout",
     "output_type": "stream",
     "text": [
      "epoch: 2 , loss: 0.5218158\n"
     ]
    },
    {
     "name": "stderr",
     "output_type": "stream",
     "text": [
      "100%|██████████| 8/8 [00:00<00:00,  9.19it/s]\n",
      " 12%|█▎        | 1/8 [00:00<00:00,  9.31it/s]"
     ]
    },
    {
     "name": "stdout",
     "output_type": "stream",
     "text": [
      "epoch: 3 , loss: 0.50194\n"
     ]
    },
    {
     "name": "stderr",
     "output_type": "stream",
     "text": [
      "100%|██████████| 8/8 [00:00<00:00,  9.19it/s]\n",
      " 12%|█▎        | 1/8 [00:00<00:00,  9.24it/s]"
     ]
    },
    {
     "name": "stdout",
     "output_type": "stream",
     "text": [
      "epoch: 4 , loss: 0.47950202\n"
     ]
    },
    {
     "name": "stderr",
     "output_type": "stream",
     "text": [
      "100%|██████████| 8/8 [00:00<00:00,  9.14it/s]"
     ]
    },
    {
     "name": "stdout",
     "output_type": "stream",
     "text": [
      "epoch: 5 , loss: 0.4574715\n"
     ]
    },
    {
     "name": "stderr",
     "output_type": "stream",
     "text": [
      "\n"
     ]
    }
   ],
   "source": [
    "batch_size = 128\n",
    "max_epoch = 5\n",
    "\n",
    "saver = tf.train.Saver()\n",
    "\n",
    "for epoch in range(max_epoch):\n",
    "    for index in tqdm(range(0, len(data), batch_size)):\n",
    "        batch = data[index:index+batch_size]\n",
    "        _, current_loss = sess.run([optimize, loss], {inputs: batch})\n",
    "#     saver.save(sess, './model/model', global_step=epoch)    \n",
    "    print(\"epoch:\", epoch+1, \", loss:\", current_loss)\n",
    "    \n",
    "    \n",
    "#         print(ret)\n",
    "# sess.run(loss, {inputs: data})"
   ]
  },
  {
   "cell_type": "code",
   "execution_count": 18,
   "metadata": {
    "collapsed": false
   },
   "outputs": [],
   "source": [
    "image = data[3]"
   ]
  },
  {
   "cell_type": "code",
   "execution_count": 19,
   "metadata": {
    "collapsed": false
   },
   "outputs": [
    {
     "data": {
      "text/plain": [
       "<matplotlib.image.AxesImage at 0x7feeed64b550>"
      ]
     },
     "execution_count": 19,
     "metadata": {},
     "output_type": "execute_result"
    },
    {
     "data": {
      "image/png": "[encoded data removed]",
      "text/plain": [
       "<matplotlib.figure.Figure at 0x7ff121cd75f8>"
      ]
     },
     "metadata": {},
     "output_type": "display_data"
    }
   ],
   "source": [
    "plt.imshow(image[:, :, 0], cmap='gray', interpolation='nearest')"
   ]
  },
  {
   "cell_type": "code",
   "execution_count": 20,
   "metadata": {
    "collapsed": false
   },
   "outputs": [],
   "source": [
    "decoded = sess.run(y, {inputs: [image]})"
   ]
  },
  {
   "cell_type": "code",
   "execution_count": 21,
   "metadata": {
    "collapsed": false
   },
   "outputs": [
    {
     "data": {
      "text/plain": [
       "<matplotlib.image.AxesImage at 0x7feecf7ac7b8>"
      ]
     },
     "execution_count": 21,
     "metadata": {},
     "output_type": "execute_result"
    },
    {
     "data": {
      "image/png": "[encoded data removed]",
      "text/plain": [
       "<matplotlib.figure.Figure at 0x7ff121cd7080>"
      ]
     },
     "metadata": {},
     "output_type": "display_data"
    }
   ],
   "source": [
    "plt.imshow(decoded[0, :, :].mean(-1), cmap='gray', interpolation='nearest')"
   ]
  },
  {
   "cell_type": "code",
   "execution_count": null,
   "metadata": {
    "collapsed": false
   },
   "outputs": [],
   "source": []
  },
  {
   "cell_type": "code",
   "execution_count": null,
   "metadata": {
    "collapsed": true
   },
   "outputs": [],
   "source": []
  },
  {
   "cell_type": "code",
   "execution_count": null,
   "metadata": {
    "collapsed": true
   },
   "outputs": [],
   "source": []
  },
  {
   "cell_type": "code",
   "execution_count": null,
   "metadata": {
    "collapsed": true
   },
   "outputs": [],
   "source": []
  },
  {
   "cell_type": "code",
   "execution_count": null,
   "metadata": {
    "collapsed": true
   },
   "outputs": [],
   "source": []
  },
  {
   "cell_type": "code",
   "execution_count": null,
   "metadata": {
    "collapsed": true
   },
   "outputs": [],
   "source": []
  },
  {
   "cell_type": "code",
   "execution_count": null,
   "metadata": {
    "collapsed": true
   },
   "outputs": [],
   "source": []
  }
 ],
 "metadata": {
  "anaconda-cloud": {},
  "kernelspec": {
   "display_name": "Python [default]",
   "language": "python",
   "name": "python3"
  },
  "language_info": {
   "codemirror_mode": {
    "name": "ipython",
    "version": 3
   },
   "file_extension": ".py",
   "mimetype": "text/x-python",
   "name": "python",
   "nbconvert_exporter": "python",
   "pygments_lexer": "ipython3",
   "version": "3.5.2"
  }
 },
 "nbformat": 4,
 "nbformat_minor": 2
}
