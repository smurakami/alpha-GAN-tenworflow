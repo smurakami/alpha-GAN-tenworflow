{
 "cells": [
  {
   "cell_type": "code",
   "execution_count": 1,
   "metadata": {},
   "outputs": [
    {
     "name": "stderr",
     "output_type": "stream",
     "text": [
      "/Users/smurakami/.anyenv/envs/pyenv/versions/anaconda3-4.4.0/lib/python3.6/importlib/_bootstrap.py:205: RuntimeWarning: compiletime version 3.5 of module 'tensorflow.python.framework.fast_tensor_util' does not match runtime version 3.6\n",
      "  return f(*args, **kwds)\n"
     ]
    }
   ],
   "source": [
    "import tensorflow as tf"
   ]
  },
  {
   "cell_type": "code",
   "execution_count": 2,
   "metadata": {},
   "outputs": [],
   "source": [
    "input = tf.placeholder(tf.float32, (None, 32, 32, 1))\n"
   ]
  },
  {
   "cell_type": "markdown",
   "metadata": {},
   "source": [
    "# Encoder"
   ]
  },
  {
   "cell_type": "code",
   "execution_count": 3,
   "metadata": {
    "collapsed": true
   },
   "outputs": [],
   "source": [
    "def res_block(inputs, filters, kernel_size, strides=(1, 1), kernel_initializer=None):\n",
    "    x = inputs\n",
    "\n",
    "    x = tf.layers.conv2d(x, filters, kernel_size=kernel_size, strides=strides, padding=\"same\", kernel_initializer=kernel_initializer)\n",
    "    x = tf.layers.batch_normalization(inputs, axis=3, epsilon=1e-5, momentum=0.1, training=True, gamma_initializer=kernel_initializer)\n",
    "    x = tf.nn.relu(x)\n",
    "\n",
    "    x = tf.layers.conv2d(x, filters, kernel_size=kernel_size, strides=strides, padding=\"same\", kernel_initializer=kernel_initializer)\n",
    "    x = tf.layers.batch_normalization(inputs, axis=3, epsilon=1e-5, momentum=0.1, training=True, gamma_initializer=kernel_initializer)\n",
    "    x = tf.nn.relu(x + inputs)\n",
    "    return x\n"
   ]
  },
  {
   "cell_type": "code",
   "execution_count": 4,
   "metadata": {},
   "outputs": [],
   "source": [
    "x = input\n",
    "h = 128\n",
    "latent_dim = 128\n",
    "initializer = tf.random_normal_initializer(0, 0.02)\n",
    "\n",
    "x = tf.layers.conv2d(x, h, kernel_size=5, strides=(1, 1), padding=\"same\", kernel_initializer=initializer)\n",
    "x = tf.layers.average_pooling2d(x, 2, 2, padding='same')\n",
    "x = tf.nn.relu(x)\n",
    "\n",
    "x = res_block(x, h, kernel_size=3, kernel_initializer=initializer)\n",
    "x = tf.layers.average_pooling2d(x, 2, 2, padding='same')\n",
    "\n",
    "x = res_block(x, h, kernel_size=3, kernel_initializer=initializer)\n",
    "x = tf.layers.average_pooling2d(x, 2, 2, padding='same')\n",
    "\n",
    "x = res_block(x, h, kernel_size=3, kernel_initializer=initializer)\n",
    "\n",
    "\n"
   ]
  },
  {
   "cell_type": "code",
   "execution_count": 5,
   "metadata": {},
   "outputs": [],
   "source": [
    "x = tf.reshape(x, shape=(-1, h * 4 * 4))\n",
    "x = tf.layers.dense(x, latent_dim)"
   ]
  },
  {
   "cell_type": "markdown",
   "metadata": {},
   "source": [
    "# Decoder"
   ]
  },
  {
   "cell_type": "code",
   "execution_count": 78,
   "metadata": {
    "collapsed": true
   },
   "outputs": [],
   "source": [
    "x = tf.layers.dense(x, h * 4 * 4)\n",
    "x = tf.reshape(x, shape=(-1, 4, 4, h))\n",
    "x = tf.nn.relu(x)"
   ]
  },
  {
   "cell_type": "code",
   "execution_count": 79,
   "metadata": {},
   "outputs": [],
   "source": [
    "x = res_block(x, h, kernel_size=3, kernel_initializer=initializer)\n",
    "x = tf.image.resize_nearest_neighbor(x, (x.shape[1] * 2, x.shape[2] * 2))\n",
    "\n",
    "x = res_block(x, h, kernel_size=3, kernel_initializer=initializer)\n",
    "x = tf.image.resize_nearest_neighbor(x, (x.shape[1] * 2, x.shape[2] * 2))\n",
    "\n",
    "x = res_block(x, h, kernel_size=3, kernel_initializer=initializer)\n",
    "x = tf.image.resize_nearest_neighbor(x, (x.shape[1] * 2, x.shape[2] * 2))\n",
    "\n",
    "x = res_block(x, h, kernel_size=3, kernel_initializer=initializer)\n",
    "\n",
    "x = tf.layers.conv2d(x, 1, kernel_size=1, padding=\"same\", kernel_initializer=initializer)"
   ]
  },
  {
   "cell_type": "code",
   "execution_count": null,
   "metadata": {
    "collapsed": true
   },
   "outputs": [],
   "source": []
  },
  {
   "cell_type": "code",
   "execution_count": null,
   "metadata": {
    "collapsed": true
   },
   "outputs": [],
   "source": []
  }
 ],
 "metadata": {
  "kernelspec": {
   "display_name": "Python 3",
   "language": "python",
   "name": "python3"
  },
  "language_info": {
   "codemirror_mode": {
    "name": "ipython",
    "version": 3
   },
   "file_extension": ".py",
   "mimetype": "text/x-python",
   "name": "python",
   "nbconvert_exporter": "python",
   "pygments_lexer": "ipython3",
   "version": "3.6.1"
  }
 },
 "nbformat": 4,
 "nbformat_minor": 2
}
